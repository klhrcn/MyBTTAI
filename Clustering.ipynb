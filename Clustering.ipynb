{
 "cells": [
  {
   "cell_type": "markdown",
   "metadata": {
    "nbgrader": {
     "grade": false,
     "grade_id": "cell-458d6d962b540ab6",
     "locked": true,
     "schema_version": 3,
     "solution": false,
     "task": false
    }
   },
   "source": [
    "# Assignment 6: Unsupervised Learning: Clustering"
   ]
  },
  {
   "cell_type": "code",
   "execution_count": 41,
   "metadata": {},
   "outputs": [],
   "source": [
    "import os\n",
    "import pandas as pd\n",
    "import matplotlib.pyplot as plt\n",
    "import seaborn as sns\n",
    "import numpy as np\n",
    "%matplotlib inline"
   ]
  },
  {
   "cell_type": "markdown",
   "metadata": {},
   "source": [
    "In this assignment, you are going to investigate some of the functionality provided by Scikit-learn for performing unsupervised learning, specifically, clustering. We will use the World Happiness Report (WHR) data set and see to what extent we can group different countries together (into clusters) based solely on the features contained in the  data set.\n",
    "\n",
    "You will complete the following tasks:\n",
    "\n",
    "1. Build your DataFrame and define your ML problem\n",
    "2. Prepare your data by cleaning the data and performing feature engineering\n",
    "3. Perform KMeans Clustering and analyze the results\n",
    "4. Perform Hierarchical Clustering and analyze the results\n"
   ]
  },
  {
   "cell_type": "markdown",
   "metadata": {},
   "source": [
    "## Part 1. Build Your DataFrame and Define Your ML Problem"
   ]
  },
  {
   "cell_type": "markdown",
   "metadata": {},
   "source": [
    "#### Load a Data Set and Save it as a Pandas DataFrame\n",
    "\n",
    "Rather than working with all of the data, we will just examine the data from 2015-2017, which we will store in a DataFrame named ```df```."
   ]
  },
  {
   "cell_type": "code",
   "execution_count": 2,
   "metadata": {},
   "outputs": [],
   "source": [
    "filename = os.path.join(os.getcwd(), \"data_clustering\", \"WHR2018Chapter2OnlineData.xls\")\n",
    "\n",
    "df = pd.read_excel(filename, sheet_name='Table2.1')"
   ]
  },
  {
   "cell_type": "markdown",
   "metadata": {},
   "source": [
    "####  Inspect the Data"
   ]
  },
  {
   "cell_type": "markdown",
   "metadata": {},
   "source": [
    "<b>Task</b>:  Inspect the data in DataFrame `df` by printing the number of rows and columns, the column names, and the first ten rows. You may perform any other techniques you'd like to inspect the data."
   ]
  },
  {
   "cell_type": "code",
   "execution_count": 3,
   "metadata": {},
   "outputs": [
    {
     "data": {
      "text/html": [
       "<div>\n",
       "<style scoped>\n",
       "    .dataframe tbody tr th:only-of-type {\n",
       "        vertical-align: middle;\n",
       "    }\n",
       "\n",
       "    .dataframe tbody tr th {\n",
       "        vertical-align: top;\n",
       "    }\n",
       "\n",
       "    .dataframe thead th {\n",
       "        text-align: right;\n",
       "    }\n",
       "</style>\n",
       "<table border=\"1\" class=\"dataframe\">\n",
       "  <thead>\n",
       "    <tr style=\"text-align: right;\">\n",
       "      <th></th>\n",
       "      <th>country</th>\n",
       "      <th>year</th>\n",
       "      <th>Life Ladder</th>\n",
       "      <th>Log GDP per capita</th>\n",
       "      <th>Social support</th>\n",
       "      <th>Healthy life expectancy at birth</th>\n",
       "      <th>Freedom to make life choices</th>\n",
       "      <th>Generosity</th>\n",
       "      <th>Perceptions of corruption</th>\n",
       "      <th>Positive affect</th>\n",
       "      <th>Negative affect</th>\n",
       "      <th>Confidence in national government</th>\n",
       "      <th>Democratic Quality</th>\n",
       "      <th>Delivery Quality</th>\n",
       "      <th>Standard deviation of ladder by country-year</th>\n",
       "      <th>Standard deviation/Mean of ladder by country-year</th>\n",
       "      <th>GINI index (World Bank estimate)</th>\n",
       "      <th>GINI index (World Bank estimate), average 2000-15</th>\n",
       "      <th>gini of household income reported in Gallup, by wp5-year</th>\n",
       "    </tr>\n",
       "  </thead>\n",
       "  <tbody>\n",
       "    <tr>\n",
       "      <th>0</th>\n",
       "      <td>Afghanistan</td>\n",
       "      <td>2008</td>\n",
       "      <td>3.723590</td>\n",
       "      <td>7.168690</td>\n",
       "      <td>0.450662</td>\n",
       "      <td>49.209663</td>\n",
       "      <td>0.718114</td>\n",
       "      <td>0.181819</td>\n",
       "      <td>0.881686</td>\n",
       "      <td>0.517637</td>\n",
       "      <td>0.258195</td>\n",
       "      <td>0.612072</td>\n",
       "      <td>-1.929690</td>\n",
       "      <td>-1.655084</td>\n",
       "      <td>1.774662</td>\n",
       "      <td>0.476600</td>\n",
       "      <td>NaN</td>\n",
       "      <td>NaN</td>\n",
       "      <td>NaN</td>\n",
       "    </tr>\n",
       "    <tr>\n",
       "      <th>1</th>\n",
       "      <td>Afghanistan</td>\n",
       "      <td>2009</td>\n",
       "      <td>4.401778</td>\n",
       "      <td>7.333790</td>\n",
       "      <td>0.552308</td>\n",
       "      <td>49.624432</td>\n",
       "      <td>0.678896</td>\n",
       "      <td>0.203614</td>\n",
       "      <td>0.850035</td>\n",
       "      <td>0.583926</td>\n",
       "      <td>0.237092</td>\n",
       "      <td>0.611545</td>\n",
       "      <td>-2.044093</td>\n",
       "      <td>-1.635025</td>\n",
       "      <td>1.722688</td>\n",
       "      <td>0.391362</td>\n",
       "      <td>NaN</td>\n",
       "      <td>NaN</td>\n",
       "      <td>0.441906</td>\n",
       "    </tr>\n",
       "    <tr>\n",
       "      <th>2</th>\n",
       "      <td>Afghanistan</td>\n",
       "      <td>2010</td>\n",
       "      <td>4.758381</td>\n",
       "      <td>7.386629</td>\n",
       "      <td>0.539075</td>\n",
       "      <td>50.008961</td>\n",
       "      <td>0.600127</td>\n",
       "      <td>0.137630</td>\n",
       "      <td>0.706766</td>\n",
       "      <td>0.618265</td>\n",
       "      <td>0.275324</td>\n",
       "      <td>0.299357</td>\n",
       "      <td>-1.991810</td>\n",
       "      <td>-1.617176</td>\n",
       "      <td>1.878622</td>\n",
       "      <td>0.394803</td>\n",
       "      <td>NaN</td>\n",
       "      <td>NaN</td>\n",
       "      <td>0.327318</td>\n",
       "    </tr>\n",
       "    <tr>\n",
       "      <th>3</th>\n",
       "      <td>Afghanistan</td>\n",
       "      <td>2011</td>\n",
       "      <td>3.831719</td>\n",
       "      <td>7.415019</td>\n",
       "      <td>0.521104</td>\n",
       "      <td>50.367298</td>\n",
       "      <td>0.495901</td>\n",
       "      <td>0.175329</td>\n",
       "      <td>0.731109</td>\n",
       "      <td>0.611387</td>\n",
       "      <td>0.267175</td>\n",
       "      <td>0.307386</td>\n",
       "      <td>-1.919018</td>\n",
       "      <td>-1.616221</td>\n",
       "      <td>1.785360</td>\n",
       "      <td>0.465942</td>\n",
       "      <td>NaN</td>\n",
       "      <td>NaN</td>\n",
       "      <td>0.336764</td>\n",
       "    </tr>\n",
       "    <tr>\n",
       "      <th>4</th>\n",
       "      <td>Afghanistan</td>\n",
       "      <td>2012</td>\n",
       "      <td>3.782938</td>\n",
       "      <td>7.517126</td>\n",
       "      <td>0.520637</td>\n",
       "      <td>50.709263</td>\n",
       "      <td>0.530935</td>\n",
       "      <td>0.247159</td>\n",
       "      <td>0.775620</td>\n",
       "      <td>0.710385</td>\n",
       "      <td>0.267919</td>\n",
       "      <td>0.435440</td>\n",
       "      <td>-1.842996</td>\n",
       "      <td>-1.404078</td>\n",
       "      <td>1.798283</td>\n",
       "      <td>0.475367</td>\n",
       "      <td>NaN</td>\n",
       "      <td>NaN</td>\n",
       "      <td>0.344540</td>\n",
       "    </tr>\n",
       "    <tr>\n",
       "      <th>5</th>\n",
       "      <td>Afghanistan</td>\n",
       "      <td>2013</td>\n",
       "      <td>3.572100</td>\n",
       "      <td>7.503376</td>\n",
       "      <td>0.483552</td>\n",
       "      <td>51.042980</td>\n",
       "      <td>0.577955</td>\n",
       "      <td>0.074735</td>\n",
       "      <td>0.823204</td>\n",
       "      <td>0.620585</td>\n",
       "      <td>0.273328</td>\n",
       "      <td>0.482847</td>\n",
       "      <td>-1.879709</td>\n",
       "      <td>-1.403036</td>\n",
       "      <td>1.223690</td>\n",
       "      <td>0.342569</td>\n",
       "      <td>NaN</td>\n",
       "      <td>NaN</td>\n",
       "      <td>0.304368</td>\n",
       "    </tr>\n",
       "    <tr>\n",
       "      <th>6</th>\n",
       "      <td>Afghanistan</td>\n",
       "      <td>2014</td>\n",
       "      <td>3.130896</td>\n",
       "      <td>7.484583</td>\n",
       "      <td>0.525568</td>\n",
       "      <td>51.370525</td>\n",
       "      <td>0.508514</td>\n",
       "      <td>0.118579</td>\n",
       "      <td>0.871242</td>\n",
       "      <td>0.531691</td>\n",
       "      <td>0.374861</td>\n",
       "      <td>0.409048</td>\n",
       "      <td>-1.773257</td>\n",
       "      <td>-1.312503</td>\n",
       "      <td>1.395396</td>\n",
       "      <td>0.445686</td>\n",
       "      <td>NaN</td>\n",
       "      <td>NaN</td>\n",
       "      <td>0.413974</td>\n",
       "    </tr>\n",
       "    <tr>\n",
       "      <th>7</th>\n",
       "      <td>Afghanistan</td>\n",
       "      <td>2015</td>\n",
       "      <td>3.982855</td>\n",
       "      <td>7.466215</td>\n",
       "      <td>0.528597</td>\n",
       "      <td>51.693527</td>\n",
       "      <td>0.388928</td>\n",
       "      <td>0.094686</td>\n",
       "      <td>0.880638</td>\n",
       "      <td>0.553553</td>\n",
       "      <td>0.339276</td>\n",
       "      <td>0.260557</td>\n",
       "      <td>-1.844364</td>\n",
       "      <td>-1.291594</td>\n",
       "      <td>2.160618</td>\n",
       "      <td>0.542480</td>\n",
       "      <td>NaN</td>\n",
       "      <td>NaN</td>\n",
       "      <td>0.596918</td>\n",
       "    </tr>\n",
       "    <tr>\n",
       "      <th>8</th>\n",
       "      <td>Afghanistan</td>\n",
       "      <td>2016</td>\n",
       "      <td>4.220169</td>\n",
       "      <td>7.461401</td>\n",
       "      <td>0.559072</td>\n",
       "      <td>52.016529</td>\n",
       "      <td>0.522566</td>\n",
       "      <td>0.057072</td>\n",
       "      <td>0.793246</td>\n",
       "      <td>0.564953</td>\n",
       "      <td>0.348332</td>\n",
       "      <td>0.324990</td>\n",
       "      <td>-1.917693</td>\n",
       "      <td>-1.432548</td>\n",
       "      <td>1.796219</td>\n",
       "      <td>0.425627</td>\n",
       "      <td>NaN</td>\n",
       "      <td>NaN</td>\n",
       "      <td>0.418629</td>\n",
       "    </tr>\n",
       "    <tr>\n",
       "      <th>9</th>\n",
       "      <td>Afghanistan</td>\n",
       "      <td>2017</td>\n",
       "      <td>2.661718</td>\n",
       "      <td>7.460144</td>\n",
       "      <td>0.490880</td>\n",
       "      <td>52.339527</td>\n",
       "      <td>0.427011</td>\n",
       "      <td>-0.106340</td>\n",
       "      <td>0.954393</td>\n",
       "      <td>0.496349</td>\n",
       "      <td>0.371326</td>\n",
       "      <td>0.261179</td>\n",
       "      <td>NaN</td>\n",
       "      <td>NaN</td>\n",
       "      <td>1.454051</td>\n",
       "      <td>0.546283</td>\n",
       "      <td>NaN</td>\n",
       "      <td>NaN</td>\n",
       "      <td>0.286599</td>\n",
       "    </tr>\n",
       "  </tbody>\n",
       "</table>\n",
       "</div>"
      ],
      "text/plain": [
       "       country  year  Life Ladder  Log GDP per capita  Social support  \\\n",
       "0  Afghanistan  2008     3.723590            7.168690        0.450662   \n",
       "1  Afghanistan  2009     4.401778            7.333790        0.552308   \n",
       "2  Afghanistan  2010     4.758381            7.386629        0.539075   \n",
       "3  Afghanistan  2011     3.831719            7.415019        0.521104   \n",
       "4  Afghanistan  2012     3.782938            7.517126        0.520637   \n",
       "5  Afghanistan  2013     3.572100            7.503376        0.483552   \n",
       "6  Afghanistan  2014     3.130896            7.484583        0.525568   \n",
       "7  Afghanistan  2015     3.982855            7.466215        0.528597   \n",
       "8  Afghanistan  2016     4.220169            7.461401        0.559072   \n",
       "9  Afghanistan  2017     2.661718            7.460144        0.490880   \n",
       "\n",
       "   Healthy life expectancy at birth  Freedom to make life choices  Generosity  \\\n",
       "0                         49.209663                      0.718114    0.181819   \n",
       "1                         49.624432                      0.678896    0.203614   \n",
       "2                         50.008961                      0.600127    0.137630   \n",
       "3                         50.367298                      0.495901    0.175329   \n",
       "4                         50.709263                      0.530935    0.247159   \n",
       "5                         51.042980                      0.577955    0.074735   \n",
       "6                         51.370525                      0.508514    0.118579   \n",
       "7                         51.693527                      0.388928    0.094686   \n",
       "8                         52.016529                      0.522566    0.057072   \n",
       "9                         52.339527                      0.427011   -0.106340   \n",
       "\n",
       "   Perceptions of corruption  Positive affect  Negative affect  \\\n",
       "0                   0.881686         0.517637         0.258195   \n",
       "1                   0.850035         0.583926         0.237092   \n",
       "2                   0.706766         0.618265         0.275324   \n",
       "3                   0.731109         0.611387         0.267175   \n",
       "4                   0.775620         0.710385         0.267919   \n",
       "5                   0.823204         0.620585         0.273328   \n",
       "6                   0.871242         0.531691         0.374861   \n",
       "7                   0.880638         0.553553         0.339276   \n",
       "8                   0.793246         0.564953         0.348332   \n",
       "9                   0.954393         0.496349         0.371326   \n",
       "\n",
       "   Confidence in national government  Democratic Quality  Delivery Quality  \\\n",
       "0                           0.612072           -1.929690         -1.655084   \n",
       "1                           0.611545           -2.044093         -1.635025   \n",
       "2                           0.299357           -1.991810         -1.617176   \n",
       "3                           0.307386           -1.919018         -1.616221   \n",
       "4                           0.435440           -1.842996         -1.404078   \n",
       "5                           0.482847           -1.879709         -1.403036   \n",
       "6                           0.409048           -1.773257         -1.312503   \n",
       "7                           0.260557           -1.844364         -1.291594   \n",
       "8                           0.324990           -1.917693         -1.432548   \n",
       "9                           0.261179                 NaN               NaN   \n",
       "\n",
       "   Standard deviation of ladder by country-year  \\\n",
       "0                                      1.774662   \n",
       "1                                      1.722688   \n",
       "2                                      1.878622   \n",
       "3                                      1.785360   \n",
       "4                                      1.798283   \n",
       "5                                      1.223690   \n",
       "6                                      1.395396   \n",
       "7                                      2.160618   \n",
       "8                                      1.796219   \n",
       "9                                      1.454051   \n",
       "\n",
       "   Standard deviation/Mean of ladder by country-year  \\\n",
       "0                                           0.476600   \n",
       "1                                           0.391362   \n",
       "2                                           0.394803   \n",
       "3                                           0.465942   \n",
       "4                                           0.475367   \n",
       "5                                           0.342569   \n",
       "6                                           0.445686   \n",
       "7                                           0.542480   \n",
       "8                                           0.425627   \n",
       "9                                           0.546283   \n",
       "\n",
       "   GINI index (World Bank estimate)  \\\n",
       "0                               NaN   \n",
       "1                               NaN   \n",
       "2                               NaN   \n",
       "3                               NaN   \n",
       "4                               NaN   \n",
       "5                               NaN   \n",
       "6                               NaN   \n",
       "7                               NaN   \n",
       "8                               NaN   \n",
       "9                               NaN   \n",
       "\n",
       "   GINI index (World Bank estimate), average 2000-15  \\\n",
       "0                                                NaN   \n",
       "1                                                NaN   \n",
       "2                                                NaN   \n",
       "3                                                NaN   \n",
       "4                                                NaN   \n",
       "5                                                NaN   \n",
       "6                                                NaN   \n",
       "7                                                NaN   \n",
       "8                                                NaN   \n",
       "9                                                NaN   \n",
       "\n",
       "   gini of household income reported in Gallup, by wp5-year  \n",
       "0                                                NaN         \n",
       "1                                           0.441906         \n",
       "2                                           0.327318         \n",
       "3                                           0.336764         \n",
       "4                                           0.344540         \n",
       "5                                           0.304368         \n",
       "6                                           0.413974         \n",
       "7                                           0.596918         \n",
       "8                                           0.418629         \n",
       "9                                           0.286599         "
      ]
     },
     "execution_count": 3,
     "metadata": {},
     "output_type": "execute_result"
    }
   ],
   "source": [
    "# YOUR CODE HERE\n",
    "df.shape\n",
    "df.columns\n",
    "df.head(10)"
   ]
  },
  {
   "cell_type": "markdown",
   "metadata": {},
   "source": [
    "#### Define the ML Problem \n",
    "\n",
    "Recall that Unsupervised Learning works with unlabeled data. Therefore, we do not have to select a label for our machine learning problem. \n",
    "\n",
    "Let's define our problem. We are interested in how similar different countries are to each other, based on their features.  Are there natural groupings or clusters of countries based upon similarity of their feature values?  This is the kind of question that the machine learning technique of clustering addresses."
   ]
  },
  {
   "cell_type": "markdown",
   "metadata": {},
   "source": [
    "#### Identify Features\n",
    "\n",
    "We will use start by using the following columns as features."
   ]
  },
  {
   "cell_type": "code",
   "execution_count": 4,
   "metadata": {},
   "outputs": [],
   "source": [
    "features = ['country', 'year', 'Life Ladder', \n",
    "                   'Positive affect','Negative affect',\n",
    "                   'Log GDP per capita', 'Social support',\n",
    "                   'Healthy life expectancy at birth', \n",
    "                   'Freedom to make life choices', \n",
    "                   'Generosity', 'Perceptions of corruption']"
   ]
  },
  {
   "cell_type": "markdown",
   "metadata": {},
   "source": [
    "<b>Task</b>: Modify DataFrame `df` to only contain the feature columns listed above."
   ]
  },
  {
   "cell_type": "code",
   "execution_count": 5,
   "metadata": {},
   "outputs": [],
   "source": [
    "# YOUR CODE HERE\n",
    "df = df[features]"
   ]
  },
  {
   "cell_type": "code",
   "execution_count": 6,
   "metadata": {},
   "outputs": [
    {
     "data": {
      "text/plain": [
       "Index(['country', 'year', 'Life Ladder', 'Positive affect', 'Negative affect',\n",
       "       'Log GDP per capita', 'Social support',\n",
       "       'Healthy life expectancy at birth', 'Freedom to make life choices',\n",
       "       'Generosity', 'Perceptions of corruption'],\n",
       "      dtype='object')"
      ]
     },
     "execution_count": 6,
     "metadata": {},
     "output_type": "execute_result"
    }
   ],
   "source": [
    "df.columns"
   ]
  },
  {
   "cell_type": "markdown",
   "metadata": {},
   "source": [
    "<b>Task</b>:  Let's change the more complex feature names to ones that are simpler.  Use the dictionary containing old names and new names below, along with the Pandas `rename()` method, to change the names of the columns. For more information on the `rename()` method, consult the online [documentation](https://pandas.pydata.org/pandas-docs/stable/reference/api/pandas.DataFrame.rename.html)."
   ]
  },
  {
   "cell_type": "code",
   "execution_count": 7,
   "metadata": {},
   "outputs": [],
   "source": [
    "new_names_dict = {'Life Ladder': 'Happiness', \n",
    "            'Log GDP per capita': 'LogGDP', \n",
    "            'Social support': 'Support', \n",
    "            'Healthy life expectancy at birth': 'Life', \n",
    "            'Freedom to make life choices': 'Freedom', \n",
    "            'Perceptions of corruption': 'Corruption', \n",
    "            'Positive affect': 'Positive', \n",
    "            'Negative affect': 'Negative'}\n",
    "\n",
    "# YOUR CODE HERE\n",
    "df=df.rename(columns=new_names_dict)"
   ]
  },
  {
   "cell_type": "code",
   "execution_count": 8,
   "metadata": {},
   "outputs": [
    {
     "data": {
      "text/plain": [
       "Index(['country', 'year', 'Happiness', 'Positive', 'Negative', 'LogGDP',\n",
       "       'Support', 'Life', 'Freedom', 'Generosity', 'Corruption'],\n",
       "      dtype='object')"
      ]
     },
     "execution_count": 8,
     "metadata": {},
     "output_type": "execute_result"
    }
   ],
   "source": [
    "df.columns"
   ]
  },
  {
   "cell_type": "markdown",
   "metadata": {},
   "source": [
    "There's one more piece of information that we'd like to include in our feature list. This is the region to which each country belongs, such as \"Central and Eastern Europe,\" and \"Latin America and Carribean.\" The WHR contains this information. Let's extract this info from the `SupportingFactors` worksheet:\n"
   ]
  },
  {
   "cell_type": "code",
   "execution_count": 9,
   "metadata": {},
   "outputs": [],
   "source": [
    "df_regions = pd.read_excel(filename, sheet_name='SupportingFactors')"
   ]
  },
  {
   "cell_type": "code",
   "execution_count": 10,
   "metadata": {},
   "outputs": [
    {
     "data": {
      "text/plain": [
       "Index(['country', 'Region indicator', 'Life ladder, 2015-2017',\n",
       "       'Standard error, life ladder, 2015-2017',\n",
       "       'Log of GDP per person, 2015-2017', 'GDP per person, 2015-2017',\n",
       "       'Healthy life expectancy, 2015-2017', 'Social support, 2015-2017',\n",
       "       'Standard error, social support, 2015-2017',\n",
       "       'Freedom to make life choices, 2015-2017',\n",
       "       'Standard error, freedom to make life choices, 2015-2017',\n",
       "       'Generosity, 2015-2017, without adjustment for GDP per person',\n",
       "       'Standard error, generosity, 2015-2017',\n",
       "       'Perceptions of corruption, 2015-2017',\n",
       "       'Standard error, perceptions of corruption, 2015-2017'],\n",
       "      dtype='object')"
      ]
     },
     "execution_count": 10,
     "metadata": {},
     "output_type": "execute_result"
    }
   ],
   "source": [
    "df_regions.columns"
   ]
  },
  {
   "cell_type": "markdown",
   "metadata": {},
   "source": [
    "<b>Task</b>: Modify DataFrame `df_regions` to only contain the feature columns `country` and `Region indicator`."
   ]
  },
  {
   "cell_type": "code",
   "execution_count": 11,
   "metadata": {},
   "outputs": [],
   "source": [
    "# YOUR CODE HERE\n",
    "df_regions=df_regions[['country', 'Region indicator']]"
   ]
  },
  {
   "cell_type": "markdown",
   "metadata": {},
   "source": [
    "Let's inspect DataFrame `df_regions`."
   ]
  },
  {
   "cell_type": "code",
   "execution_count": 12,
   "metadata": {},
   "outputs": [
    {
     "data": {
      "text/html": [
       "<div>\n",
       "<style scoped>\n",
       "    .dataframe tbody tr th:only-of-type {\n",
       "        vertical-align: middle;\n",
       "    }\n",
       "\n",
       "    .dataframe tbody tr th {\n",
       "        vertical-align: top;\n",
       "    }\n",
       "\n",
       "    .dataframe thead th {\n",
       "        text-align: right;\n",
       "    }\n",
       "</style>\n",
       "<table border=\"1\" class=\"dataframe\">\n",
       "  <thead>\n",
       "    <tr style=\"text-align: right;\">\n",
       "      <th></th>\n",
       "      <th>country</th>\n",
       "      <th>Region indicator</th>\n",
       "    </tr>\n",
       "  </thead>\n",
       "  <tbody>\n",
       "    <tr>\n",
       "      <th>0</th>\n",
       "      <td>Afghanistan</td>\n",
       "      <td>South Asia</td>\n",
       "    </tr>\n",
       "    <tr>\n",
       "      <th>1</th>\n",
       "      <td>Albania</td>\n",
       "      <td>Central and Eastern Europe</td>\n",
       "    </tr>\n",
       "    <tr>\n",
       "      <th>2</th>\n",
       "      <td>Algeria</td>\n",
       "      <td>Middle East and North Africa</td>\n",
       "    </tr>\n",
       "    <tr>\n",
       "      <th>3</th>\n",
       "      <td>Angola</td>\n",
       "      <td>Sub-Saharan Africa</td>\n",
       "    </tr>\n",
       "    <tr>\n",
       "      <th>4</th>\n",
       "      <td>Argentina</td>\n",
       "      <td>Latin America and Caribbean</td>\n",
       "    </tr>\n",
       "    <tr>\n",
       "      <th>5</th>\n",
       "      <td>Armenia</td>\n",
       "      <td>Commonwealth of Independent States</td>\n",
       "    </tr>\n",
       "    <tr>\n",
       "      <th>6</th>\n",
       "      <td>Australia</td>\n",
       "      <td>North America and ANZ</td>\n",
       "    </tr>\n",
       "    <tr>\n",
       "      <th>7</th>\n",
       "      <td>Austria</td>\n",
       "      <td>Western Europe</td>\n",
       "    </tr>\n",
       "    <tr>\n",
       "      <th>8</th>\n",
       "      <td>Azerbaijan</td>\n",
       "      <td>Commonwealth of Independent States</td>\n",
       "    </tr>\n",
       "    <tr>\n",
       "      <th>9</th>\n",
       "      <td>Bahrain</td>\n",
       "      <td>Middle East and North Africa</td>\n",
       "    </tr>\n",
       "    <tr>\n",
       "      <th>10</th>\n",
       "      <td>Bangladesh</td>\n",
       "      <td>South Asia</td>\n",
       "    </tr>\n",
       "    <tr>\n",
       "      <th>11</th>\n",
       "      <td>Belarus</td>\n",
       "      <td>Commonwealth of Independent States</td>\n",
       "    </tr>\n",
       "    <tr>\n",
       "      <th>12</th>\n",
       "      <td>Belgium</td>\n",
       "      <td>Western Europe</td>\n",
       "    </tr>\n",
       "    <tr>\n",
       "      <th>13</th>\n",
       "      <td>Belize</td>\n",
       "      <td>Latin America and Caribbean</td>\n",
       "    </tr>\n",
       "    <tr>\n",
       "      <th>14</th>\n",
       "      <td>Benin</td>\n",
       "      <td>Sub-Saharan Africa</td>\n",
       "    </tr>\n",
       "  </tbody>\n",
       "</table>\n",
       "</div>"
      ],
      "text/plain": [
       "        country                    Region indicator\n",
       "0   Afghanistan                          South Asia\n",
       "1       Albania          Central and Eastern Europe\n",
       "2       Algeria        Middle East and North Africa\n",
       "3        Angola                  Sub-Saharan Africa\n",
       "4     Argentina         Latin America and Caribbean\n",
       "5       Armenia  Commonwealth of Independent States\n",
       "6     Australia               North America and ANZ\n",
       "7       Austria                      Western Europe\n",
       "8    Azerbaijan  Commonwealth of Independent States\n",
       "9       Bahrain        Middle East and North Africa\n",
       "10   Bangladesh                          South Asia\n",
       "11      Belarus  Commonwealth of Independent States\n",
       "12      Belgium                      Western Europe\n",
       "13       Belize         Latin America and Caribbean\n",
       "14        Benin                  Sub-Saharan Africa"
      ]
     },
     "execution_count": 12,
     "metadata": {},
     "output_type": "execute_result"
    }
   ],
   "source": [
    "df_regions.head(15)"
   ]
  },
  {
   "cell_type": "markdown",
   "metadata": {},
   "source": [
    "<b>Task</b>:  Change the name of the `Region indicator` column to  `Region`."
   ]
  },
  {
   "cell_type": "code",
   "execution_count": 13,
   "metadata": {},
   "outputs": [],
   "source": [
    "# YOUR CODE HERE\n",
    "df_regions=df_regions.rename(columns={'Region indicator': 'Region'})"
   ]
  },
  {
   "cell_type": "code",
   "execution_count": 14,
   "metadata": {},
   "outputs": [
    {
     "data": {
      "text/plain": [
       "Index(['country', 'Region'], dtype='object')"
      ]
     },
     "execution_count": 14,
     "metadata": {},
     "output_type": "execute_result"
    }
   ],
   "source": [
    "df_regions.columns"
   ]
  },
  {
   "cell_type": "markdown",
   "metadata": {},
   "source": [
    "<b>Task:</b> Merge DataFrame `df_regions` with DataFrame `df` based on the common column `country`. Use the Pandas `merge()` method. For more information on `merge()`, consult the online [documentation](https://pandas.pydata.org/docs/reference/api/pandas.DataFrame.merge.html)."
   ]
  },
  {
   "cell_type": "code",
   "execution_count": 26,
   "metadata": {},
   "outputs": [],
   "source": [
    "# YOUR CODE HERE\n",
    "df=df.merge(df_regions,on='country',how='left')"
   ]
  },
  {
   "cell_type": "markdown",
   "metadata": {},
   "source": [
    "<b>Task:</b> Print a list of the features."
   ]
  },
  {
   "cell_type": "code",
   "execution_count": 27,
   "metadata": {},
   "outputs": [
    {
     "name": "stdout",
     "output_type": "stream",
     "text": [
      "['country', 'year', 'Life Ladder', 'Positive affect', 'Negative affect', 'Log GDP per capita', 'Social support', 'Healthy life expectancy at birth', 'Freedom to make life choices', 'Generosity', 'Perceptions of corruption']\n"
     ]
    }
   ],
   "source": [
    "# YOUR CODE HERE\n",
    "print(features)"
   ]
  },
  {
   "cell_type": "markdown",
   "metadata": {},
   "source": [
    "Finally, let's set the index of DataFrame `df` to be the country name:"
   ]
  },
  {
   "cell_type": "code",
   "execution_count": 17,
   "metadata": {},
   "outputs": [],
   "source": [
    "df.set_index('country', inplace=True)"
   ]
  },
  {
   "cell_type": "markdown",
   "metadata": {},
   "source": [
    "## Part 2. Prepare Your Data\n",
    "\n",
    "Now that we have identified our features, let's perform data preparation techniques to prepare our data for modeling.\n",
    "\n",
    "You will first clean your data by handling missing values and will then perform feature engineering by performing data aggregation and scaling."
   ]
  },
  {
   "cell_type": "markdown",
   "metadata": {},
   "source": [
    "#### Handle Missing Data"
   ]
  },
  {
   "cell_type": "markdown",
   "metadata": {},
   "source": [
    "**Task**: Check if DataFrame `df` contains missing values, and sum up the resulting values by columns. Print the results."
   ]
  },
  {
   "cell_type": "code",
   "execution_count": 19,
   "metadata": {},
   "outputs": [
    {
     "name": "stdout",
     "output_type": "stream",
     "text": [
      "year           0\n",
      "Happiness      0\n",
      "Positive      18\n",
      "Negative      12\n",
      "LogGDP        27\n",
      "Support       13\n",
      "Life           9\n",
      "Freedom       29\n",
      "Generosity    80\n",
      "Corruption    90\n",
      "dtype: int64\n"
     ]
    }
   ],
   "source": [
    "# YOUR CODE HERE\n",
    "missing = df.isnull().sum()\n",
    "print(missing)"
   ]
  },
  {
   "cell_type": "markdown",
   "metadata": {},
   "source": [
    "<b>Task:</b> Remove all examples (rows) that contains missing values."
   ]
  },
  {
   "cell_type": "code",
   "execution_count": 20,
   "metadata": {},
   "outputs": [],
   "source": [
    "# YOUR CODE HERE\n",
    "df=df.dropna()"
   ]
  },
  {
   "cell_type": "markdown",
   "metadata": {},
   "source": [
    "<b>Task</b>: Inspect DataFrame `df` to see the if it still has missing values by once again summing up the missing values by columns."
   ]
  },
  {
   "cell_type": "code",
   "execution_count": 22,
   "metadata": {},
   "outputs": [
    {
     "name": "stdout",
     "output_type": "stream",
     "text": [
      "year          0\n",
      "Happiness     0\n",
      "Positive      0\n",
      "Negative      0\n",
      "LogGDP        0\n",
      "Support       0\n",
      "Life          0\n",
      "Freedom       0\n",
      "Generosity    0\n",
      "Corruption    0\n",
      "dtype: int64\n"
     ]
    }
   ],
   "source": [
    "# YOUR CODE HERE\n",
    "missing2 = df.isnull().sum()\n",
    "print(missing2)"
   ]
  },
  {
   "cell_type": "markdown",
   "metadata": {},
   "source": [
    "#### Perform Data Aggregation\n",
    "\n",
    "Data aggregation is also called the summarization of data. We can perform data aggregation by performing aggregate functions on a group of data to create new data. For example, we can merge examples (rows) in a DataFrame by replacing these examples with one example that contains the mean or sum of the different feature values in the group."
   ]
  },
  {
   "cell_type": "markdown",
   "metadata": {},
   "source": [
    "Let's inspect our current data."
   ]
  },
  {
   "cell_type": "code",
   "execution_count": 23,
   "metadata": {},
   "outputs": [
    {
     "data": {
      "text/html": [
       "<div>\n",
       "<style scoped>\n",
       "    .dataframe tbody tr th:only-of-type {\n",
       "        vertical-align: middle;\n",
       "    }\n",
       "\n",
       "    .dataframe tbody tr th {\n",
       "        vertical-align: top;\n",
       "    }\n",
       "\n",
       "    .dataframe thead th {\n",
       "        text-align: right;\n",
       "    }\n",
       "</style>\n",
       "<table border=\"1\" class=\"dataframe\">\n",
       "  <thead>\n",
       "    <tr style=\"text-align: right;\">\n",
       "      <th></th>\n",
       "      <th>year</th>\n",
       "      <th>Happiness</th>\n",
       "      <th>Positive</th>\n",
       "      <th>Negative</th>\n",
       "      <th>LogGDP</th>\n",
       "      <th>Support</th>\n",
       "      <th>Life</th>\n",
       "      <th>Freedom</th>\n",
       "      <th>Generosity</th>\n",
       "      <th>Corruption</th>\n",
       "    </tr>\n",
       "    <tr>\n",
       "      <th>country</th>\n",
       "      <th></th>\n",
       "      <th></th>\n",
       "      <th></th>\n",
       "      <th></th>\n",
       "      <th></th>\n",
       "      <th></th>\n",
       "      <th></th>\n",
       "      <th></th>\n",
       "      <th></th>\n",
       "      <th></th>\n",
       "    </tr>\n",
       "  </thead>\n",
       "  <tbody>\n",
       "    <tr>\n",
       "      <th>Afghanistan</th>\n",
       "      <td>2008</td>\n",
       "      <td>3.723590</td>\n",
       "      <td>0.517637</td>\n",
       "      <td>0.258195</td>\n",
       "      <td>7.168690</td>\n",
       "      <td>0.450662</td>\n",
       "      <td>49.209663</td>\n",
       "      <td>0.718114</td>\n",
       "      <td>0.181819</td>\n",
       "      <td>0.881686</td>\n",
       "    </tr>\n",
       "    <tr>\n",
       "      <th>Afghanistan</th>\n",
       "      <td>2009</td>\n",
       "      <td>4.401778</td>\n",
       "      <td>0.583926</td>\n",
       "      <td>0.237092</td>\n",
       "      <td>7.333790</td>\n",
       "      <td>0.552308</td>\n",
       "      <td>49.624432</td>\n",
       "      <td>0.678896</td>\n",
       "      <td>0.203614</td>\n",
       "      <td>0.850035</td>\n",
       "    </tr>\n",
       "    <tr>\n",
       "      <th>Afghanistan</th>\n",
       "      <td>2010</td>\n",
       "      <td>4.758381</td>\n",
       "      <td>0.618265</td>\n",
       "      <td>0.275324</td>\n",
       "      <td>7.386629</td>\n",
       "      <td>0.539075</td>\n",
       "      <td>50.008961</td>\n",
       "      <td>0.600127</td>\n",
       "      <td>0.137630</td>\n",
       "      <td>0.706766</td>\n",
       "    </tr>\n",
       "    <tr>\n",
       "      <th>Afghanistan</th>\n",
       "      <td>2011</td>\n",
       "      <td>3.831719</td>\n",
       "      <td>0.611387</td>\n",
       "      <td>0.267175</td>\n",
       "      <td>7.415019</td>\n",
       "      <td>0.521104</td>\n",
       "      <td>50.367298</td>\n",
       "      <td>0.495901</td>\n",
       "      <td>0.175329</td>\n",
       "      <td>0.731109</td>\n",
       "    </tr>\n",
       "    <tr>\n",
       "      <th>Afghanistan</th>\n",
       "      <td>2012</td>\n",
       "      <td>3.782938</td>\n",
       "      <td>0.710385</td>\n",
       "      <td>0.267919</td>\n",
       "      <td>7.517126</td>\n",
       "      <td>0.520637</td>\n",
       "      <td>50.709263</td>\n",
       "      <td>0.530935</td>\n",
       "      <td>0.247159</td>\n",
       "      <td>0.775620</td>\n",
       "    </tr>\n",
       "    <tr>\n",
       "      <th>Afghanistan</th>\n",
       "      <td>2013</td>\n",
       "      <td>3.572100</td>\n",
       "      <td>0.620585</td>\n",
       "      <td>0.273328</td>\n",
       "      <td>7.503376</td>\n",
       "      <td>0.483552</td>\n",
       "      <td>51.042980</td>\n",
       "      <td>0.577955</td>\n",
       "      <td>0.074735</td>\n",
       "      <td>0.823204</td>\n",
       "    </tr>\n",
       "    <tr>\n",
       "      <th>Afghanistan</th>\n",
       "      <td>2014</td>\n",
       "      <td>3.130896</td>\n",
       "      <td>0.531691</td>\n",
       "      <td>0.374861</td>\n",
       "      <td>7.484583</td>\n",
       "      <td>0.525568</td>\n",
       "      <td>51.370525</td>\n",
       "      <td>0.508514</td>\n",
       "      <td>0.118579</td>\n",
       "      <td>0.871242</td>\n",
       "    </tr>\n",
       "    <tr>\n",
       "      <th>Afghanistan</th>\n",
       "      <td>2015</td>\n",
       "      <td>3.982855</td>\n",
       "      <td>0.553553</td>\n",
       "      <td>0.339276</td>\n",
       "      <td>7.466215</td>\n",
       "      <td>0.528597</td>\n",
       "      <td>51.693527</td>\n",
       "      <td>0.388928</td>\n",
       "      <td>0.094686</td>\n",
       "      <td>0.880638</td>\n",
       "    </tr>\n",
       "    <tr>\n",
       "      <th>Afghanistan</th>\n",
       "      <td>2016</td>\n",
       "      <td>4.220169</td>\n",
       "      <td>0.564953</td>\n",
       "      <td>0.348332</td>\n",
       "      <td>7.461401</td>\n",
       "      <td>0.559072</td>\n",
       "      <td>52.016529</td>\n",
       "      <td>0.522566</td>\n",
       "      <td>0.057072</td>\n",
       "      <td>0.793246</td>\n",
       "    </tr>\n",
       "    <tr>\n",
       "      <th>Afghanistan</th>\n",
       "      <td>2017</td>\n",
       "      <td>2.661718</td>\n",
       "      <td>0.496349</td>\n",
       "      <td>0.371326</td>\n",
       "      <td>7.460144</td>\n",
       "      <td>0.490880</td>\n",
       "      <td>52.339527</td>\n",
       "      <td>0.427011</td>\n",
       "      <td>-0.106340</td>\n",
       "      <td>0.954393</td>\n",
       "    </tr>\n",
       "    <tr>\n",
       "      <th>Albania</th>\n",
       "      <td>2007</td>\n",
       "      <td>4.634252</td>\n",
       "      <td>0.552678</td>\n",
       "      <td>0.246335</td>\n",
       "      <td>9.077325</td>\n",
       "      <td>0.821372</td>\n",
       "      <td>66.576630</td>\n",
       "      <td>0.528605</td>\n",
       "      <td>-0.016183</td>\n",
       "      <td>0.874700</td>\n",
       "    </tr>\n",
       "    <tr>\n",
       "      <th>Albania</th>\n",
       "      <td>2009</td>\n",
       "      <td>5.485470</td>\n",
       "      <td>0.640024</td>\n",
       "      <td>0.279257</td>\n",
       "      <td>9.161633</td>\n",
       "      <td>0.833047</td>\n",
       "      <td>67.103607</td>\n",
       "      <td>0.525223</td>\n",
       "      <td>-0.162897</td>\n",
       "      <td>0.863665</td>\n",
       "    </tr>\n",
       "    <tr>\n",
       "      <th>Albania</th>\n",
       "      <td>2010</td>\n",
       "      <td>5.268937</td>\n",
       "      <td>0.647908</td>\n",
       "      <td>0.300060</td>\n",
       "      <td>9.203026</td>\n",
       "      <td>0.733152</td>\n",
       "      <td>67.413696</td>\n",
       "      <td>0.568958</td>\n",
       "      <td>-0.177533</td>\n",
       "      <td>0.726262</td>\n",
       "    </tr>\n",
       "    <tr>\n",
       "      <th>Albania</th>\n",
       "      <td>2011</td>\n",
       "      <td>5.867422</td>\n",
       "      <td>0.627659</td>\n",
       "      <td>0.256577</td>\n",
       "      <td>9.230898</td>\n",
       "      <td>0.759434</td>\n",
       "      <td>67.730408</td>\n",
       "      <td>0.487496</td>\n",
       "      <td>-0.210193</td>\n",
       "      <td>0.877003</td>\n",
       "    </tr>\n",
       "    <tr>\n",
       "      <th>Albania</th>\n",
       "      <td>2012</td>\n",
       "      <td>5.510124</td>\n",
       "      <td>0.606636</td>\n",
       "      <td>0.271393</td>\n",
       "      <td>9.246649</td>\n",
       "      <td>0.784502</td>\n",
       "      <td>68.028885</td>\n",
       "      <td>0.601512</td>\n",
       "      <td>-0.174559</td>\n",
       "      <td>0.847675</td>\n",
       "    </tr>\n",
       "  </tbody>\n",
       "</table>\n",
       "</div>"
      ],
      "text/plain": [
       "             year  Happiness  Positive  Negative    LogGDP   Support  \\\n",
       "country                                                                \n",
       "Afghanistan  2008   3.723590  0.517637  0.258195  7.168690  0.450662   \n",
       "Afghanistan  2009   4.401778  0.583926  0.237092  7.333790  0.552308   \n",
       "Afghanistan  2010   4.758381  0.618265  0.275324  7.386629  0.539075   \n",
       "Afghanistan  2011   3.831719  0.611387  0.267175  7.415019  0.521104   \n",
       "Afghanistan  2012   3.782938  0.710385  0.267919  7.517126  0.520637   \n",
       "Afghanistan  2013   3.572100  0.620585  0.273328  7.503376  0.483552   \n",
       "Afghanistan  2014   3.130896  0.531691  0.374861  7.484583  0.525568   \n",
       "Afghanistan  2015   3.982855  0.553553  0.339276  7.466215  0.528597   \n",
       "Afghanistan  2016   4.220169  0.564953  0.348332  7.461401  0.559072   \n",
       "Afghanistan  2017   2.661718  0.496349  0.371326  7.460144  0.490880   \n",
       "Albania      2007   4.634252  0.552678  0.246335  9.077325  0.821372   \n",
       "Albania      2009   5.485470  0.640024  0.279257  9.161633  0.833047   \n",
       "Albania      2010   5.268937  0.647908  0.300060  9.203026  0.733152   \n",
       "Albania      2011   5.867422  0.627659  0.256577  9.230898  0.759434   \n",
       "Albania      2012   5.510124  0.606636  0.271393  9.246649  0.784502   \n",
       "\n",
       "                  Life   Freedom  Generosity  Corruption  \n",
       "country                                                   \n",
       "Afghanistan  49.209663  0.718114    0.181819    0.881686  \n",
       "Afghanistan  49.624432  0.678896    0.203614    0.850035  \n",
       "Afghanistan  50.008961  0.600127    0.137630    0.706766  \n",
       "Afghanistan  50.367298  0.495901    0.175329    0.731109  \n",
       "Afghanistan  50.709263  0.530935    0.247159    0.775620  \n",
       "Afghanistan  51.042980  0.577955    0.074735    0.823204  \n",
       "Afghanistan  51.370525  0.508514    0.118579    0.871242  \n",
       "Afghanistan  51.693527  0.388928    0.094686    0.880638  \n",
       "Afghanistan  52.016529  0.522566    0.057072    0.793246  \n",
       "Afghanistan  52.339527  0.427011   -0.106340    0.954393  \n",
       "Albania      66.576630  0.528605   -0.016183    0.874700  \n",
       "Albania      67.103607  0.525223   -0.162897    0.863665  \n",
       "Albania      67.413696  0.568958   -0.177533    0.726262  \n",
       "Albania      67.730408  0.487496   -0.210193    0.877003  \n",
       "Albania      68.028885  0.601512   -0.174559    0.847675  "
      ]
     },
     "execution_count": 23,
     "metadata": {},
     "output_type": "execute_result"
    }
   ],
   "source": [
    "df.head(15)"
   ]
  },
  {
   "cell_type": "markdown",
   "metadata": {},
   "source": [
    "Notice that we have multiple examples (rows) per country, each containing information for different years. We can group examples together by country and merge them so that we can have one example per country. Let's do so by computing the mean values of all the features for each country, averaging over all years in the data set. Our resulting DataFrame `df` will then contain one example per country. "
   ]
  },
  {
   "cell_type": "code",
   "execution_count": 28,
   "metadata": {},
   "outputs": [],
   "source": [
    "df = df.groupby(['country', 'Region']).mean().reset_index()"
   ]
  },
  {
   "cell_type": "markdown",
   "metadata": {},
   "source": [
    "Let's inspect our new data."
   ]
  },
  {
   "cell_type": "code",
   "execution_count": 29,
   "metadata": {},
   "outputs": [
    {
     "data": {
      "text/html": [
       "<div>\n",
       "<style scoped>\n",
       "    .dataframe tbody tr th:only-of-type {\n",
       "        vertical-align: middle;\n",
       "    }\n",
       "\n",
       "    .dataframe tbody tr th {\n",
       "        vertical-align: top;\n",
       "    }\n",
       "\n",
       "    .dataframe thead th {\n",
       "        text-align: right;\n",
       "    }\n",
       "</style>\n",
       "<table border=\"1\" class=\"dataframe\">\n",
       "  <thead>\n",
       "    <tr style=\"text-align: right;\">\n",
       "      <th></th>\n",
       "      <th>country</th>\n",
       "      <th>Region</th>\n",
       "      <th>year</th>\n",
       "      <th>Happiness</th>\n",
       "      <th>Positive</th>\n",
       "      <th>Negative</th>\n",
       "      <th>LogGDP</th>\n",
       "      <th>Support</th>\n",
       "      <th>Life</th>\n",
       "      <th>Freedom</th>\n",
       "      <th>Generosity</th>\n",
       "      <th>Corruption</th>\n",
       "    </tr>\n",
       "  </thead>\n",
       "  <tbody>\n",
       "    <tr>\n",
       "      <th>0</th>\n",
       "      <td>Afghanistan</td>\n",
       "      <td>South Asia</td>\n",
       "      <td>2012.500000</td>\n",
       "      <td>3.806614</td>\n",
       "      <td>0.580873</td>\n",
       "      <td>0.301283</td>\n",
       "      <td>7.419697</td>\n",
       "      <td>0.517146</td>\n",
       "      <td>50.838271</td>\n",
       "      <td>0.544895</td>\n",
       "      <td>0.118428</td>\n",
       "      <td>0.826794</td>\n",
       "    </tr>\n",
       "    <tr>\n",
       "      <th>1</th>\n",
       "      <td>Albania</td>\n",
       "      <td>Central and Eastern Europe</td>\n",
       "      <td>2012.400000</td>\n",
       "      <td>4.988791</td>\n",
       "      <td>0.642628</td>\n",
       "      <td>0.303256</td>\n",
       "      <td>9.247059</td>\n",
       "      <td>0.723204</td>\n",
       "      <td>68.027213</td>\n",
       "      <td>0.626155</td>\n",
       "      <td>-0.105019</td>\n",
       "      <td>0.859691</td>\n",
       "    </tr>\n",
       "    <tr>\n",
       "      <th>2</th>\n",
       "      <td>Algeria</td>\n",
       "      <td>Middle East and North Africa</td>\n",
       "      <td>2013.333333</td>\n",
       "      <td>5.390234</td>\n",
       "      <td>0.598735</td>\n",
       "      <td>0.257774</td>\n",
       "      <td>9.499098</td>\n",
       "      <td>0.818795</td>\n",
       "      <td>64.989372</td>\n",
       "      <td>0.517632</td>\n",
       "      <td>-0.200306</td>\n",
       "      <td>0.675957</td>\n",
       "    </tr>\n",
       "    <tr>\n",
       "      <th>3</th>\n",
       "      <td>Angola</td>\n",
       "      <td>Sub-Saharan Africa</td>\n",
       "      <td>2012.500000</td>\n",
       "      <td>4.420299</td>\n",
       "      <td>0.613339</td>\n",
       "      <td>0.351173</td>\n",
       "      <td>8.713935</td>\n",
       "      <td>0.737973</td>\n",
       "      <td>51.729801</td>\n",
       "      <td>0.455957</td>\n",
       "      <td>-0.077940</td>\n",
       "      <td>0.867018</td>\n",
       "    </tr>\n",
       "    <tr>\n",
       "      <th>4</th>\n",
       "      <td>Argentina</td>\n",
       "      <td>Latin America and Caribbean</td>\n",
       "      <td>2011.500000</td>\n",
       "      <td>6.406131</td>\n",
       "      <td>0.840998</td>\n",
       "      <td>0.273187</td>\n",
       "      <td>9.826051</td>\n",
       "      <td>0.906080</td>\n",
       "      <td>66.764205</td>\n",
       "      <td>0.753122</td>\n",
       "      <td>-0.154544</td>\n",
       "      <td>0.844038</td>\n",
       "    </tr>\n",
       "    <tr>\n",
       "      <th>5</th>\n",
       "      <td>Armenia</td>\n",
       "      <td>Commonwealth of Independent States</td>\n",
       "      <td>2011.500000</td>\n",
       "      <td>4.386683</td>\n",
       "      <td>0.543565</td>\n",
       "      <td>0.432749</td>\n",
       "      <td>8.906013</td>\n",
       "      <td>0.705386</td>\n",
       "      <td>64.165676</td>\n",
       "      <td>0.520092</td>\n",
       "      <td>-0.192519</td>\n",
       "      <td>0.882539</td>\n",
       "    </tr>\n",
       "    <tr>\n",
       "      <th>6</th>\n",
       "      <td>Australia</td>\n",
       "      <td>North America and ANZ</td>\n",
       "      <td>2012.300000</td>\n",
       "      <td>7.305930</td>\n",
       "      <td>0.806852</td>\n",
       "      <td>0.215710</td>\n",
       "      <td>10.661784</td>\n",
       "      <td>0.947422</td>\n",
       "      <td>72.171539</td>\n",
       "      <td>0.922925</td>\n",
       "      <td>0.293790</td>\n",
       "      <td>0.409955</td>\n",
       "    </tr>\n",
       "    <tr>\n",
       "      <th>7</th>\n",
       "      <td>Austria</td>\n",
       "      <td>Western Europe</td>\n",
       "      <td>2012.200000</td>\n",
       "      <td>7.234409</td>\n",
       "      <td>0.795045</td>\n",
       "      <td>0.167963</td>\n",
       "      <td>10.696035</td>\n",
       "      <td>0.928381</td>\n",
       "      <td>71.178088</td>\n",
       "      <td>0.906110</td>\n",
       "      <td>0.148707</td>\n",
       "      <td>0.596848</td>\n",
       "    </tr>\n",
       "    <tr>\n",
       "      <th>8</th>\n",
       "      <td>Azerbaijan</td>\n",
       "      <td>Commonwealth of Independent States</td>\n",
       "      <td>2011.500000</td>\n",
       "      <td>4.902705</td>\n",
       "      <td>0.565277</td>\n",
       "      <td>0.239572</td>\n",
       "      <td>9.624816</td>\n",
       "      <td>0.760092</td>\n",
       "      <td>62.152107</td>\n",
       "      <td>0.636899</td>\n",
       "      <td>-0.183966</td>\n",
       "      <td>0.729846</td>\n",
       "    </tr>\n",
       "    <tr>\n",
       "      <th>9</th>\n",
       "      <td>Bahrain</td>\n",
       "      <td>Middle East and North Africa</td>\n",
       "      <td>2010.000000</td>\n",
       "      <td>5.487123</td>\n",
       "      <td>0.663947</td>\n",
       "      <td>0.452760</td>\n",
       "      <td>10.608648</td>\n",
       "      <td>0.896375</td>\n",
       "      <td>65.275709</td>\n",
       "      <td>0.875935</td>\n",
       "      <td>-0.019195</td>\n",
       "      <td>0.601082</td>\n",
       "    </tr>\n",
       "    <tr>\n",
       "      <th>10</th>\n",
       "      <td>Bangladesh</td>\n",
       "      <td>South Asia</td>\n",
       "      <td>2011.272727</td>\n",
       "      <td>4.708135</td>\n",
       "      <td>0.639967</td>\n",
       "      <td>0.247276</td>\n",
       "      <td>7.872093</td>\n",
       "      <td>0.582858</td>\n",
       "      <td>60.595713</td>\n",
       "      <td>0.722278</td>\n",
       "      <td>-0.018999</td>\n",
       "      <td>0.750139</td>\n",
       "    </tr>\n",
       "    <tr>\n",
       "      <th>11</th>\n",
       "      <td>Belarus</td>\n",
       "      <td>Commonwealth of Independent States</td>\n",
       "      <td>2011.818182</td>\n",
       "      <td>5.588875</td>\n",
       "      <td>0.571258</td>\n",
       "      <td>0.216373</td>\n",
       "      <td>9.686007</td>\n",
       "      <td>0.906063</td>\n",
       "      <td>63.936931</td>\n",
       "      <td>0.666143</td>\n",
       "      <td>-0.173229</td>\n",
       "      <td>0.675959</td>\n",
       "    </tr>\n",
       "    <tr>\n",
       "      <th>12</th>\n",
       "      <td>Belgium</td>\n",
       "      <td>Western Europe</td>\n",
       "      <td>2012.300000</td>\n",
       "      <td>6.997592</td>\n",
       "      <td>0.806108</td>\n",
       "      <td>0.236501</td>\n",
       "      <td>10.633950</td>\n",
       "      <td>0.922777</td>\n",
       "      <td>71.564104</td>\n",
       "      <td>0.867395</td>\n",
       "      <td>0.001671</td>\n",
       "      <td>0.613301</td>\n",
       "    </tr>\n",
       "    <tr>\n",
       "      <th>13</th>\n",
       "      <td>Belize</td>\n",
       "      <td>Latin America and Caribbean</td>\n",
       "      <td>2010.500000</td>\n",
       "      <td>6.203146</td>\n",
       "      <td>0.756880</td>\n",
       "      <td>0.266100</td>\n",
       "      <td>8.981327</td>\n",
       "      <td>0.814600</td>\n",
       "      <td>58.628218</td>\n",
       "      <td>0.789438</td>\n",
       "      <td>0.009471</td>\n",
       "      <td>0.775545</td>\n",
       "    </tr>\n",
       "    <tr>\n",
       "      <th>14</th>\n",
       "      <td>Benin</td>\n",
       "      <td>Sub-Saharan Africa</td>\n",
       "      <td>2012.444444</td>\n",
       "      <td>3.708080</td>\n",
       "      <td>0.609558</td>\n",
       "      <td>0.315311</td>\n",
       "      <td>7.558044</td>\n",
       "      <td>0.474853</td>\n",
       "      <td>50.715882</td>\n",
       "      <td>0.736690</td>\n",
       "      <td>-0.041763</td>\n",
       "      <td>0.826265</td>\n",
       "    </tr>\n",
       "  </tbody>\n",
       "</table>\n",
       "</div>"
      ],
      "text/plain": [
       "        country                              Region         year  Happiness  \\\n",
       "0   Afghanistan                          South Asia  2012.500000   3.806614   \n",
       "1       Albania          Central and Eastern Europe  2012.400000   4.988791   \n",
       "2       Algeria        Middle East and North Africa  2013.333333   5.390234   \n",
       "3        Angola                  Sub-Saharan Africa  2012.500000   4.420299   \n",
       "4     Argentina         Latin America and Caribbean  2011.500000   6.406131   \n",
       "5       Armenia  Commonwealth of Independent States  2011.500000   4.386683   \n",
       "6     Australia               North America and ANZ  2012.300000   7.305930   \n",
       "7       Austria                      Western Europe  2012.200000   7.234409   \n",
       "8    Azerbaijan  Commonwealth of Independent States  2011.500000   4.902705   \n",
       "9       Bahrain        Middle East and North Africa  2010.000000   5.487123   \n",
       "10   Bangladesh                          South Asia  2011.272727   4.708135   \n",
       "11      Belarus  Commonwealth of Independent States  2011.818182   5.588875   \n",
       "12      Belgium                      Western Europe  2012.300000   6.997592   \n",
       "13       Belize         Latin America and Caribbean  2010.500000   6.203146   \n",
       "14        Benin                  Sub-Saharan Africa  2012.444444   3.708080   \n",
       "\n",
       "    Positive  Negative     LogGDP   Support       Life   Freedom  Generosity  \\\n",
       "0   0.580873  0.301283   7.419697  0.517146  50.838271  0.544895    0.118428   \n",
       "1   0.642628  0.303256   9.247059  0.723204  68.027213  0.626155   -0.105019   \n",
       "2   0.598735  0.257774   9.499098  0.818795  64.989372  0.517632   -0.200306   \n",
       "3   0.613339  0.351173   8.713935  0.737973  51.729801  0.455957   -0.077940   \n",
       "4   0.840998  0.273187   9.826051  0.906080  66.764205  0.753122   -0.154544   \n",
       "5   0.543565  0.432749   8.906013  0.705386  64.165676  0.520092   -0.192519   \n",
       "6   0.806852  0.215710  10.661784  0.947422  72.171539  0.922925    0.293790   \n",
       "7   0.795045  0.167963  10.696035  0.928381  71.178088  0.906110    0.148707   \n",
       "8   0.565277  0.239572   9.624816  0.760092  62.152107  0.636899   -0.183966   \n",
       "9   0.663947  0.452760  10.608648  0.896375  65.275709  0.875935   -0.019195   \n",
       "10  0.639967  0.247276   7.872093  0.582858  60.595713  0.722278   -0.018999   \n",
       "11  0.571258  0.216373   9.686007  0.906063  63.936931  0.666143   -0.173229   \n",
       "12  0.806108  0.236501  10.633950  0.922777  71.564104  0.867395    0.001671   \n",
       "13  0.756880  0.266100   8.981327  0.814600  58.628218  0.789438    0.009471   \n",
       "14  0.609558  0.315311   7.558044  0.474853  50.715882  0.736690   -0.041763   \n",
       "\n",
       "    Corruption  \n",
       "0     0.826794  \n",
       "1     0.859691  \n",
       "2     0.675957  \n",
       "3     0.867018  \n",
       "4     0.844038  \n",
       "5     0.882539  \n",
       "6     0.409955  \n",
       "7     0.596848  \n",
       "8     0.729846  \n",
       "9     0.601082  \n",
       "10    0.750139  \n",
       "11    0.675959  \n",
       "12    0.613301  \n",
       "13    0.775545  \n",
       "14    0.826265  "
      ]
     },
     "execution_count": 29,
     "metadata": {},
     "output_type": "execute_result"
    }
   ],
   "source": [
    "df.head(15)"
   ]
  },
  {
   "cell_type": "markdown",
   "metadata": {},
   "source": [
    "<b>Task:</b> We no longer need the `year` column. Remove the `year` column from DataFrame `df`."
   ]
  },
  {
   "cell_type": "code",
   "execution_count": 31,
   "metadata": {
    "scrolled": true
   },
   "outputs": [],
   "source": [
    "# YOUR CODE HERE\n",
    "df=df.drop(columns='year')"
   ]
  },
  {
   "cell_type": "code",
   "execution_count": 32,
   "metadata": {},
   "outputs": [
    {
     "data": {
      "text/plain": [
       "Index(['country', 'Region', 'Happiness', 'Positive', 'Negative', 'LogGDP',\n",
       "       'Support', 'Life', 'Freedom', 'Generosity', 'Corruption'],\n",
       "      dtype='object')"
      ]
     },
     "execution_count": 32,
     "metadata": {},
     "output_type": "execute_result"
    }
   ],
   "source": [
    "df.columns"
   ]
  },
  {
   "cell_type": "markdown",
   "metadata": {},
   "source": [
    "#### Scale the Data\n",
    "\n",
    "Let's scale the numerical data to normalize each column to have zero mean and unit standard deviation.\n",
    "\n",
    "We will use Scikit-learn's `StandardScaler` to accomplish this. Use the online [documentation](https://scikit-learn.org/stable/modules/generated/sklearn.preprocessing.StandardScaler.html) as a reference for how to use `StandardScaler`.\n",
    "\n",
    "First, let's import `StandardScaler`."
   ]
  },
  {
   "cell_type": "code",
   "execution_count": 33,
   "metadata": {},
   "outputs": [],
   "source": [
    "from sklearn.preprocessing import StandardScaler"
   ]
  },
  {
   "cell_type": "markdown",
   "metadata": {},
   "source": [
    "<b>Task:</b> In the code cell below, do the following:\n",
    "\n",
    "1. Create a `StandardScaler` object by calling `StandardScaler()`. Save the result to variable `scaler`.\n",
    "2. Extract numerical features from DataFrame `df` and save the feature columns to DataFrame `df_to_scale`.\n",
    "3. Call the `scaler.fit_transform()` method to fit the scaler to `data_to_scale` and transform the data. Save the result to `transformed_data`.\n",
    "4. Call `pd.DataFrame()` to create a new DataFrame. Name the DataFrame `df_scaled`. Pass `transformed_data` as an argument. Specify the following parameters:\n",
    "    * `columns`: the column parameter should be given the column names from `df_to_scale` \n",
    "    * `index`: the index parameter should be given the value of `df_to_scale.index`."
   ]
  },
  {
   "cell_type": "code",
   "execution_count": 37,
   "metadata": {},
   "outputs": [
    {
     "data": {
      "text/html": [
       "<div>\n",
       "<style scoped>\n",
       "    .dataframe tbody tr th:only-of-type {\n",
       "        vertical-align: middle;\n",
       "    }\n",
       "\n",
       "    .dataframe tbody tr th {\n",
       "        vertical-align: top;\n",
       "    }\n",
       "\n",
       "    .dataframe thead th {\n",
       "        text-align: right;\n",
       "    }\n",
       "</style>\n",
       "<table border=\"1\" class=\"dataframe\">\n",
       "  <thead>\n",
       "    <tr style=\"text-align: right;\">\n",
       "      <th></th>\n",
       "      <th>Happiness</th>\n",
       "      <th>Positive</th>\n",
       "      <th>Negative</th>\n",
       "      <th>LogGDP</th>\n",
       "      <th>Support</th>\n",
       "      <th>Life</th>\n",
       "      <th>Freedom</th>\n",
       "      <th>Generosity</th>\n",
       "      <th>Corruption</th>\n",
       "    </tr>\n",
       "  </thead>\n",
       "  <tbody>\n",
       "    <tr>\n",
       "      <th>0</th>\n",
       "      <td>-1.452072</td>\n",
       "      <td>-1.257848</td>\n",
       "      <td>0.496224</td>\n",
       "      <td>-1.442164</td>\n",
       "      <td>-2.428763</td>\n",
       "      <td>-1.334205</td>\n",
       "      <td>-1.358133</td>\n",
       "      <td>0.732571</td>\n",
       "      <td>0.449524</td>\n",
       "    </tr>\n",
       "    <tr>\n",
       "      <th>1</th>\n",
       "      <td>-0.364486</td>\n",
       "      <td>-0.630475</td>\n",
       "      <td>0.524190</td>\n",
       "      <td>0.049492</td>\n",
       "      <td>-0.686872</td>\n",
       "      <td>0.772824</td>\n",
       "      <td>-0.744811</td>\n",
       "      <td>-0.714285</td>\n",
       "      <td>0.629916</td>\n",
       "    </tr>\n",
       "    <tr>\n",
       "      <th>2</th>\n",
       "      <td>0.004836</td>\n",
       "      <td>-1.076383</td>\n",
       "      <td>-0.120463</td>\n",
       "      <td>0.255229</td>\n",
       "      <td>0.121202</td>\n",
       "      <td>0.400444</td>\n",
       "      <td>-1.563904</td>\n",
       "      <td>-1.331282</td>\n",
       "      <td>-0.377585</td>\n",
       "    </tr>\n",
       "    <tr>\n",
       "      <th>3</th>\n",
       "      <td>-0.887491</td>\n",
       "      <td>-0.928025</td>\n",
       "      <td>1.203360</td>\n",
       "      <td>-0.385691</td>\n",
       "      <td>-0.562017</td>\n",
       "      <td>-1.224921</td>\n",
       "      <td>-2.029402</td>\n",
       "      <td>-0.538942</td>\n",
       "      <td>0.670092</td>\n",
       "    </tr>\n",
       "    <tr>\n",
       "      <th>4</th>\n",
       "      <td>0.939446</td>\n",
       "      <td>1.384782</td>\n",
       "      <td>0.098002</td>\n",
       "      <td>0.522117</td>\n",
       "      <td>0.859056</td>\n",
       "      <td>0.618004</td>\n",
       "      <td>0.213481</td>\n",
       "      <td>-1.034962</td>\n",
       "      <td>0.544082</td>\n",
       "    </tr>\n",
       "    <tr>\n",
       "      <th>...</th>\n",
       "      <td>...</td>\n",
       "      <td>...</td>\n",
       "      <td>...</td>\n",
       "      <td>...</td>\n",
       "      <td>...</td>\n",
       "      <td>...</td>\n",
       "      <td>...</td>\n",
       "      <td>...</td>\n",
       "      <td>...</td>\n",
       "    </tr>\n",
       "    <tr>\n",
       "      <th>147</th>\n",
       "      <td>0.878179</td>\n",
       "      <td>1.210719</td>\n",
       "      <td>-0.679733</td>\n",
       "      <td>0.431834</td>\n",
       "      <td>0.993976</td>\n",
       "      <td>0.300698</td>\n",
       "      <td>-0.433547</td>\n",
       "      <td>-1.278057</td>\n",
       "      <td>0.240147</td>\n",
       "    </tr>\n",
       "    <tr>\n",
       "      <th>148</th>\n",
       "      <td>-0.021940</td>\n",
       "      <td>-0.908530</td>\n",
       "      <td>-0.884423</td>\n",
       "      <td>-0.607008</td>\n",
       "      <td>0.142679</td>\n",
       "      <td>0.430435</td>\n",
       "      <td>1.096105</td>\n",
       "      <td>0.053442</td>\n",
       "      <td>0.200615</td>\n",
       "    </tr>\n",
       "    <tr>\n",
       "      <th>149</th>\n",
       "      <td>-1.256452</td>\n",
       "      <td>-1.576371</td>\n",
       "      <td>0.463639</td>\n",
       "      <td>-0.778749</td>\n",
       "      <td>-0.969679</td>\n",
       "      <td>-0.946380</td>\n",
       "      <td>-0.657596</td>\n",
       "      <td>-0.987834</td>\n",
       "      <td>0.484862</td>\n",
       "    </tr>\n",
       "    <tr>\n",
       "      <th>150</th>\n",
       "      <td>-0.643620</td>\n",
       "      <td>0.183922</td>\n",
       "      <td>0.131736</td>\n",
       "      <td>-0.890554</td>\n",
       "      <td>-0.494271</td>\n",
       "      <td>-1.480713</td>\n",
       "      <td>0.184358</td>\n",
       "      <td>-0.091720</td>\n",
       "      <td>0.477526</td>\n",
       "    </tr>\n",
       "    <tr>\n",
       "      <th>151</th>\n",
       "      <td>-1.215086</td>\n",
       "      <td>0.153005</td>\n",
       "      <td>-0.734432</td>\n",
       "      <td>-1.445226</td>\n",
       "      <td>0.061166</td>\n",
       "      <td>-1.876330</td>\n",
       "      <td>-1.206482</td>\n",
       "      <td>-0.450024</td>\n",
       "      <td>0.576313</td>\n",
       "    </tr>\n",
       "  </tbody>\n",
       "</table>\n",
       "<p>152 rows × 9 columns</p>\n",
       "</div>"
      ],
      "text/plain": [
       "     Happiness  Positive  Negative    LogGDP   Support      Life   Freedom  \\\n",
       "0    -1.452072 -1.257848  0.496224 -1.442164 -2.428763 -1.334205 -1.358133   \n",
       "1    -0.364486 -0.630475  0.524190  0.049492 -0.686872  0.772824 -0.744811   \n",
       "2     0.004836 -1.076383 -0.120463  0.255229  0.121202  0.400444 -1.563904   \n",
       "3    -0.887491 -0.928025  1.203360 -0.385691 -0.562017 -1.224921 -2.029402   \n",
       "4     0.939446  1.384782  0.098002  0.522117  0.859056  0.618004  0.213481   \n",
       "..         ...       ...       ...       ...       ...       ...       ...   \n",
       "147   0.878179  1.210719 -0.679733  0.431834  0.993976  0.300698 -0.433547   \n",
       "148  -0.021940 -0.908530 -0.884423 -0.607008  0.142679  0.430435  1.096105   \n",
       "149  -1.256452 -1.576371  0.463639 -0.778749 -0.969679 -0.946380 -0.657596   \n",
       "150  -0.643620  0.183922  0.131736 -0.890554 -0.494271 -1.480713  0.184358   \n",
       "151  -1.215086  0.153005 -0.734432 -1.445226  0.061166 -1.876330 -1.206482   \n",
       "\n",
       "     Generosity  Corruption  \n",
       "0      0.732571    0.449524  \n",
       "1     -0.714285    0.629916  \n",
       "2     -1.331282   -0.377585  \n",
       "3     -0.538942    0.670092  \n",
       "4     -1.034962    0.544082  \n",
       "..          ...         ...  \n",
       "147   -1.278057    0.240147  \n",
       "148    0.053442    0.200615  \n",
       "149   -0.987834    0.484862  \n",
       "150   -0.091720    0.477526  \n",
       "151   -0.450024    0.576313  \n",
       "\n",
       "[152 rows x 9 columns]"
      ]
     },
     "execution_count": 37,
     "metadata": {},
     "output_type": "execute_result"
    }
   ],
   "source": [
    "# 1. Create a StandardScaler object and save the result to variable scaler.\n",
    "# YOUR CODE HERE\n",
    "scaler = StandardScaler()\n",
    "# 2. Extract numerical features from DataFrame df and save it to DataFrame df_to_scale.\n",
    "# YOUR CODE HERE\n",
    "df_to_scale = df.select_dtypes(include=['number'])\n",
    "\n",
    "# 3. Call the scaler.fit_transform() method to fit the scaler to data_to_scale\n",
    "# and tranform the data. Save the result to transformed_data.\n",
    "# YOUR CODE HERE\n",
    "transformed_data=scaler.fit_transform(df_to_scale)\n",
    "\n",
    "#4. Create new DataFrame df_scaled\n",
    "# YOUR CODE HERE\n",
    "df_scaled = pd.DataFrame(transformed_data, columns=df_to_scale.columns, index=df_to_scale.index)\n",
    "\n",
    "# Inspect df_scaled\n",
    "df_scaled"
   ]
  },
  {
   "cell_type": "markdown",
   "metadata": {
    "nbgrader": {
     "grade": false,
     "grade_id": "cell-70aa3d38bc25a2ee",
     "locked": true,
     "schema_version": 3,
     "solution": false,
     "task": false
    }
   },
   "source": [
    "## Part 3. Visualize the Data\n",
    "\n",
    "The `df_scaled` DataFrame contains, for each country listed, a group of nine numerical features.  The `Region` feature column from ```df``` has been removed because that is categorical rather than numerical.  Since we have scaled the data to have zero mean, any numerical entry that is greater than zero indicates a value above average, and any entry that is less than zero indicates a value below average.  Therefore, we can think of each country as being \"defined\" by this group of nine features.\n",
    "\n",
    "We are interested in how similar different countries are to each other, based on their feature values.  \n",
    "\n",
    "To begin, let's have a visual look at the data, which consists of 152 rows x 9 columns.  The code cell below uses the seaborn `heatmap()` function to make a heatmap of `df_scaled`.\n",
    "\n",
    "The default rendering of the heatmap is not ideal, being somewhat short and squat when the dataset is much longer.  To get around this, we first create a figure with a size that is better suited to this plot, and then make the call to `heatmap()`.  \n",
    "\n",
    "Since we have requested a large figure size, it is possible that the figure might be embedded in a scrollable sub-window rather than rendered in its entirety in the notebook as is usually the case. If you'd like to be able to expand the sub-window and get the figure embedded fully within the notebook, you can click on the panel to the left of the figure (under the Out[] indicator, i.e., to the left but still within the notebook). If you decide you want to convert it back again to a scrollable sub-window, you can click in that left panel again."
   ]
  },
  {
   "cell_type": "code",
   "execution_count": 38,
   "metadata": {
    "nbgrader": {
     "grade": false,
     "grade_id": "cell-14da59a809f6e48c",
     "locked": true,
     "schema_version": 3,
     "solution": false,
     "task": false
    },
    "scrolled": true
   },
   "outputs": [
    {
     "data": {
      "text/plain": [
       "<AxesSubplot: >"
      ]
     },
     "execution_count": 38,
     "metadata": {},
     "output_type": "execute_result"
    },
    {
     "data": {
      "image/png": "[encoded data removed]",
      "text/plain": [
       "<Figure size 600x3000 with 2 Axes>"
      ]
     },
     "metadata": {},
     "output_type": "display_data"
    }
   ],
   "source": [
    "plt.figure(figsize = (6,30))\n",
    "sns.heatmap(df_scaled)"
   ]
  },
  {
   "cell_type": "markdown",
   "metadata": {
    "nbgrader": {
     "grade": false,
     "grade_id": "cell-bc555da20146977b",
     "locked": true,
     "schema_version": 3,
     "solution": false,
     "task": false
    }
   },
   "source": [
    "## Part 4. Perform KMeans Clustering and Analyze the Results\n",
    "\n",
    "The countries in the heatmap you have just created are ordered alphabetically, leading to what looks like a random pattern of feature values as you scan down the heatmap.  The point of clustering is to pull out subgroups (clusters) that share similar feature profiles.\n",
    "\n",
    "The first clustering algorithm we will examine is KMeans (sometimes written as k-means or K-means), which is described in more detail in the [scikit-learn documentation](https://scikit-learn.org/stable/modules/clustering.html#k-means). \n",
    "\n",
    "With KMeans, one specifies in advance how many clusters one would like to group the data into, and this value is the number $K$, hence the name of the method.  Sometimes one needs to experiment with different values of $K$ to see what best reflects the nature of the data. KMeans works by finding a set of \"centroid\" points at the center of each cluster, so that every data point (example) within a cluster is closer to the center of its own cluster than to the centroid of a different cluster.\n",
    "\n",
    "In a hypothetical dataset with $N$ examples, a \"perfect but meaningless\" clustering of the data would involve making as many clusters as there are examples, that is, setting $K = N$.  In such a scenario, every example (e.g., every country in our dataset) would be in its own cluster, perfectly identical to itself, but meaningless in terms of revealing structure and patterns in the data.  In the opposite limit, $K = 1$, all the examples would be in the same cluster, which leaves us no better than where we started.  The point of clustering is to find a number of clusters $K$ (somewhere between $1$ and $N$) that captures substructure within the data.\n",
    "\n",
    "In the case of our WHR data, a useful guess for $K$ might reflect the number of different regions that are contained in  DataFrame `df`. In this exercise, we want to cluster countries based on the WHR features, and might be interested in how well the clustering reflects the region data.  Thus, a useful place to start here is to set $K$ to be the number of unique regions contained in DataFrame `df`."
   ]
  },
  {
   "cell_type": "markdown",
   "metadata": {},
   "source": [
    "### Step 1: Determine the Number of Clusters $K$\n",
    "Let's first figure out how many clusters we want to find.\n",
    "\n",
    "<b>Task:</b>\n",
    "\n",
    "* Find the number of unique values contained in the `Region` feature in DataFrame `df`. Save the results to  variable`K`.\n",
    "* Print the value of `K`."
   ]
  },
  {
   "cell_type": "code",
   "execution_count": 39,
   "metadata": {
    "nbgrader": {
     "grade": false,
     "grade_id": "cell-1ac4b26dee13c65e",
     "locked": true,
     "schema_version": 3,
     "solution": false,
     "task": false
    }
   },
   "outputs": [
    {
     "name": "stdout",
     "output_type": "stream",
     "text": [
      "10\n"
     ]
    }
   ],
   "source": [
    "# YOUR CODE HERE:\n",
    "K = df['Region'].nunique()\n",
    "print(K)"
   ]
  },
  {
   "cell_type": "markdown",
   "metadata": {
    "nbgrader": {
     "grade": false,
     "grade_id": "cell-8b3e043c4e452a4c",
     "locked": true,
     "schema_version": 3,
     "solution": false,
     "task": false
    }
   },
   "source": [
    "### Step 2: Apply KMeans Clustering to the Data\n",
    "\n",
    "Having identified the number of clusters we want to look for, let's continue with Kmeans. \n",
    "\n",
    "First let's import Scikit-learn `KMeans` class. For more information, consult ```KMeans``` Scikit-learn online [dcocumentation](https://scikit-learn.org/stable/modules/generated/sklearn.cluster.KMeans.html)."
   ]
  },
  {
   "cell_type": "code",
   "execution_count": 40,
   "metadata": {},
   "outputs": [],
   "source": [
    "from sklearn.cluster import KMeans"
   ]
  },
  {
   "cell_type": "markdown",
   "metadata": {},
   "source": [
    "<b>Task:</b> In the code cell below:\n",
    "\n",
    "1. Create a ```KMeans```model object, specifying the parameter `n_clusters` to contain the number of clusters $K$, and assign the results to the variable `kcluster_model`. \n",
    "\n",
    "2. Fit the model to `df_scaled`."
   ]
  },
  {
   "cell_type": "code",
   "execution_count": 45,
   "metadata": {
    "nbgrader": {
     "grade": false,
     "grade_id": "cell-59cf76dd60bd7f16",
     "locked": true,
     "schema_version": 3,
     "solution": false,
     "task": false
    }
   },
   "outputs": [],
   "source": [
    "# YOUR CODE HERE\n",
    "kcluster_model=KMeans(n_clusters=K)\n",
    "kcluster_model.fit(df_scaled)\n",
    "kcluster=kcluster_model"
   ]
  },
  {
   "cell_type": "markdown",
   "metadata": {
    "nbgrader": {
     "grade": false,
     "grade_id": "cell-e6bea92d09ee49cd",
     "locked": true,
     "schema_version": 3,
     "solution": false,
     "task": false
    }
   },
   "source": [
    "The output from the code cell above, if entered and run correctly, should note some further information about the `KMeans` clusterer that you have created and fit to the data.  There are various other options that can in principle be specified in constructing the object; the only option we specified above was ```n_clusters```, and used the default values of everything else.  \n",
    "\n",
    "You will notice an entry for ```n_init=10```.  This refers to the fact that the Kmeans algorithm starts from a initial guess for the centroid locations, and runs the algorithm repeatedly with different starting guesses (`n_init` times), choosing the best clustering from the group."
   ]
  },
  {
   "cell_type": "markdown",
   "metadata": {},
   "source": [
    "### Step 3. Label Each Example with the Cluster It Belongs To\n",
    "\n",
    "Once the `KMeans` clusterer has fit the data, it contains various data attributes that we can query. One of these attributes is the ```labels_``` object, which is an array of integers that assigns a cluster label to each example in the dataset.  For our WHR data, therefore, the ```labels_``` object describes, in the same order in which the data appears in our ```df_scaled``` DataFrame, which cluster each country belongs to.\n",
    "\n",
    "The code cell below prints the value of ```kcluster.labels_```. Run the cell and examine the output."
   ]
  },
  {
   "cell_type": "code",
   "execution_count": 46,
   "metadata": {
    "nbgrader": {
     "grade": false,
     "grade_id": "cell-8b75cacf7418e7e8",
     "locked": true,
     "schema_version": 3,
     "solution": false,
     "task": false
    }
   },
   "outputs": [
    {
     "name": "stdout",
     "output_type": "stream",
     "text": [
      "[2 5 8 5 9 5 4 4 8 1 2 8 9 1 2 6 1 5 7 9 8 2 2 6 2 4 2 2 1 1 2 2 9 8 1 9 3\n",
      " 1 1 5 1 9 7 3 9 5 5 4 7 0 1 2 2 1 3 8 4 2 6 5 5 4 1 1 2 1 9 8 9 7 8 9 7 6\n",
      " 8 5 7 2 1 8 3 5 7 2 1 7 4 7 1 9 8 8 5 8 2 6 7 7 4 3 1 7 7 3 2 5 9 1 1 1 9\n",
      " 1 3 8 8 7 9 7 5 2 3 8 1 7 8 2 9 6 7 3 3 5 9 7 7 6 2 1 5 5 7 8 3 4 4 9 4 9\n",
      " 1 2 7 7]\n"
     ]
    }
   ],
   "source": [
    "print(kcluster.labels_)"
   ]
  },
  {
   "cell_type": "markdown",
   "metadata": {
    "nbgrader": {
     "grade": false,
     "grade_id": "cell-50123c25d42eca79",
     "locked": true,
     "schema_version": 3,
     "solution": false,
     "task": false
    }
   },
   "source": [
    "The actual numbers associated with the cluster labels are meaningless, and will change each time you run the clustering algorithm.  (By this we mean that we could permute the labels of all the clusters, and the underlying clustering of the data would remain unchanged.)  What is meaningful, however, is which countries *share* the same cluster label, since that means they are assigned to the same cluster (regardless of what cluster label number that is).  Since the cluster labels printed above contain no information about the countries they correspond to, it is useful to combine the cluster labels with the DataFrames that they originated from.  We'll do that by creating a copy of both the ```df``` and ```df_scaled``` DataFrames, and adding information about the cluster labels.\n",
    "\n",
    "<b>Task:</b> In the code cell below:\n",
    "\n",
    "1. Make a copy of DataFrame `df` using its `copy()` method. Assign the result to a new DataFrame named `df_clustered`.\n",
    "2.  Add a new column named `klabel` to `df_clustered`. This column should contain the values in `kcluster.labels_` \n",
    "3. Make a copy of DataFrame `df_scaled` and assign the result to a new DataFrame named `df_scaled_clustered`.\n",
    "4. Add a new column named `klabel` to `df_scaled_clustered`. This column should contain the values in `kcluster.labels_` \n",
    "\n"
   ]
  },
  {
   "cell_type": "code",
   "execution_count": null,
   "metadata": {
    "nbgrader": {
     "grade": false,
     "grade_id": "cell-9a6c2c6e90202ea2",
     "locked": true,
     "schema_version": 3,
     "solution": false,
     "task": false
    }
   },
   "outputs": [],
   "source": [
    "# YOUR CODE HERE\n",
    "df_clustered=df.copy()\n",
    "df_clustered['klabel']=kcluster.labels_\n",
    "df_scaled_clustered=df_scaled.copy()\n",
    "df_scaled_"
   ]
  },
  {
   "cell_type": "markdown",
   "metadata": {},
   "source": [
    "Execute the code cell below and examine the new ```df_clustered``` DataFrame.  You should see the `klabel` column now &mdash; any two countries with the same label have been assigned to the same cluster."
   ]
  },
  {
   "cell_type": "code",
   "execution_count": null,
   "metadata": {},
   "outputs": [],
   "source": [
    "df_clustered"
   ]
  },
  {
   "cell_type": "markdown",
   "metadata": {
    "nbgrader": {
     "grade": false,
     "grade_id": "cell-54a456427b830d5c",
     "locked": true,
     "schema_version": 3,
     "solution": false,
     "task": false
    }
   },
   "source": [
    "### Step 4. Analyze the Results\n",
    "\n",
    "Recall that each cluster is approximately defined by its centroid, which we can think of as a typical or average feature profile for that cluster.  Our examples actually live in a 9-dimensional space (9 numerical features), so it's a little hard to visualize the data.  But if we want to see what each of the clusters approximately \"looks like,\" we can just plot the coordinates of the cluster centroids, which are stored in the attribute ```kcluster.cluster_centers_```.\n",
    "\n",
    "Execute the code cell below to make a plot of the cluster centers and their associated label numbers.  Note that the cluster centers are all distinct from one another, although clusters are somewhat closer to each other.  This might be indicative of the fact that $K=10$ might be too many clusters to properly represent this dataset; if $K$ were reduced, some of the nearby clusters would probably collapse into a larger metacluster reflecting their approximately common profile.  We'll just examine the $K=10$ case in this exercise, but if you're interested in investigating further on your own, you could try some other values of $K$ to see how the results change.\n",
    "\n",
    "Feel free to modify the code if you want to tweak the plot, or to understand what each of the commands there is doing."
   ]
  },
  {
   "cell_type": "code",
   "execution_count": null,
   "metadata": {},
   "outputs": [],
   "source": [
    "numerical_features = ['Happiness', 'LogGDP', 'Support', 'Life', 'Freedom', 'Generosity', 'Corruption', 'Positive', 'Negative']\n"
   ]
  },
  {
   "cell_type": "code",
   "execution_count": null,
   "metadata": {
    "nbgrader": {
     "grade": false,
     "grade_id": "cell-7e7d3cd31827e0ed",
     "locked": true,
     "schema_version": 3,
     "solution": false,
     "task": false
    },
    "scrolled": true
   },
   "outputs": [],
   "source": [
    "for i in range(10):\n",
    "    plt.plot(kcluster.cluster_centers_[i], label=i)\n",
    "plt.xticks(range(9), numerical_features, rotation=45)\n",
    "plt.legend()"
   ]
  },
  {
   "cell_type": "markdown",
   "metadata": {
    "nbgrader": {
     "grade": false,
     "grade_id": "cell-700d62498ad400c8",
     "locked": true,
     "schema_version": 3,
     "solution": false,
     "task": false
    }
   },
   "source": [
    "In the plot above, each line represents the centroid of one cluster (for clusters labeled 0 through 9).  For each cluster, there is a group of countries whose features lie near to these centroids.\n",
    "\n",
    "First examine, and then execute, the code cell below.  \n",
    "\n",
    "The code cell below defines a function called ```plot_cluster_and_centroid```, which takes as input an integer cluster label, and plots all country profiles within the cluster (in different colors) along with the centroid profile (plotted with a black dashed line and black point markers).\n",
    "\n",
    "After the function definition, the function is called to produce a plot for cluster label 0.\n",
    "\n",
    "<b>Task:</b> Modify the code cell below to plot all Clusters. Once you've examined the plot for cluster 0, modify the cluster label being passed to the function in order to view each of the other 9 clusters that have been produced (10 clusters in all, since we set $K = 10$).  In other words, modify the input to the function one at a time, and re-execute the code cell, or &mdash; if you prefer &mdash; open up additional code cells below to plot each of the clusters in turn. At present, the plot turns off the legend indicating the names of the countries in each cluster (```legend=False```), since the legend clutters the figure for large clusters and is difficult to reposition.  But if you're curious, try turning the legend back on to see the contents of each cluster.\n",
    "\n",
    "Take some time to examine these plots to understand what they are conveying.  Some clusters represents countries that might have greater `Happiness` and lower `Corruption`, for example, whereas others might represent different combinations of attributes."
   ]
  },
  {
   "cell_type": "code",
   "execution_count": null,
   "metadata": {
    "nbgrader": {
     "grade": false,
     "grade_id": "cell-512f71b717565b48",
     "locked": true,
     "schema_version": 3,
     "solution": false,
     "task": false
    }
   },
   "outputs": [],
   "source": [
    "def plot_cluster_and_centroid(label):\n",
    "    df_scaled_clustered[df_scaled_clustered.klabel==label][numerical_features].T.plot(legend=False)\n",
    "    plt.plot(kcluster.cluster_centers_[label], 'ko--')\n",
    "    plt.xticks(range(9), numerical_features, rotation=45)\n",
    "\n",
    "# Call plot_cluster_and_centroid() multiple times with each cluster label (0-9) as an argument \n",
    "# and analyze the resulting plots\n",
    "plot_cluster_and_centroid(0)"
   ]
  },
  {
   "cell_type": "markdown",
   "metadata": {
    "nbgrader": {
     "grade": false,
     "grade_id": "cell-da2b3f00173c1001",
     "locked": true,
     "schema_version": 3,
     "solution": false,
     "task": false
    }
   },
   "source": [
    "We might be interested in how the results produced by KMeans clustering relate to the region information that is stored in DataFrame ```df_clustered```.  As we discussed above, the cluster labels themselves are meaningless, but we can easily examine how each cluster label (`klabel`) aligns with different world regions.  For example, we might want to know how many countries from each region are associated with cluster number 0, cluster number 1, etc.\n",
    "\n",
    "The code cell below contains an expression to group the data in ```df_clustered``` by both `klabel` and `Region`, and compute the size of each (`klabel`, `Region`) pair. It is done in one line using the ```groupby()``` method, along with the ```size()``` method that is applied to each group produced by the `groupby` operation.  An operation of this sort will produce a new DataFrame with a two-level MultiIndex (i.e., each row described by its (`klabel`, `Region`) pair), with the corresponding column indicating how many countries are associated with that pair."
   ]
  },
  {
   "cell_type": "code",
   "execution_count": null,
   "metadata": {
    "nbgrader": {
     "grade": true,
     "grade_id": "cell-ed8e8354f186aa5c",
     "locked": false,
     "points": 0,
     "schema_version": 3,
     "solution": true,
     "task": false
    }
   },
   "outputs": [],
   "source": [
    "df_clustered.groupby(['klabel', 'Region']).size()"
   ]
  },
  {
   "cell_type": "markdown",
   "metadata": {
    "nbgrader": {
     "grade": false,
     "grade_id": "cell-f7d59470a1332940",
     "locked": true,
     "schema_version": 3,
     "solution": false,
     "task": false
    }
   },
   "source": [
    "## Part 4. Perform Hierarchical Clustering and Analyze the Results\n",
    "\n",
    "\n",
    "The Kmeans algorithm is just one of many clustering algorithms supported by Scikit-learn.  A colorful overview of different clustering methods is provided in the Scikit-learn online [documentation](https://scikit-learn.org/stable/modules/clustering.html).\n",
    "\n",
    "Another widely used clustering method is known as [Hierarchical clustering](https://scikit-learn.org/stable/modules/clustering.html#hierarchical-clustering), some variants of which are known as agglomerative clustering.  This method takes a slightly more nuanced approach to the process of clustering.  Whereas KMeans clustering specifies a fixed number of clusters to group data into, hierarchical clustering develops a \"hierarchy\" of clustering relationships where data points are grouped more closely together if they are more similar to each other.  It's somewhat like the way that ancestry works.  If someone were to ask you how many people you are related to, you might reply that it depends on how far back they want to go in time to define \"relatedness.\" Presumably we are all related to each other (however remotely) if we go back far enough in time to a common evolutionary ancestor, but that fact might not be so useful in defining \"relatedness\" or \"clusters\" of people.  Nonetheless, hierarchical clustering does provide insight into these hierarchical relationships among clusters, and lends itself to useful visualization techniques that reveal those relationships.\n",
    "\n",
    "Scikit-learn provides objects and methods for `AgglomerativeClustering` that operate similarly to the way that the KMeans object worked above, by creating a clustering object and then fitting it to the dataset of interest.  If you're interested, you can investigate this further by following along with the Scikit-learn documentation.  Unfortunately, Scikit-learn does not provide great support for plotting the results of hierarchical clustering, generally referred to as dendograms.  There is some code showing a [simple example](https://scikit-learn.org/stable/auto_examples/cluster/plot_agglomerative_dendrogram.html).\n",
    "\n",
    "Instead, we can work with `seaborn`, which provides a useful function called `clustermap()` that does two things: it performs hierarchical clustering and then displays the results.  The `clustermap()` function is described in the seaborn online [documentation](https://seaborn.pydata.org/generated/seaborn.clustermap.html#seaborn.clustermap).  The function  uses a version of the clustering algorithm that is included as part of [scipy](http://scipy.org), a Python package that provides a wealth of useful tools for scientific computing.\n",
    "\n",
    "The code cell below contains a call to `sns.clustermap()` to operate on DataFrame `df_scaled`, providing the following additional options:\n",
    "\n",
    "* ```method = 'average'```\n",
    "* ```metric = 'euclidean'```\n",
    "* ```figsize = (15,40)```\n",
    "\n",
    "Note that the data is clustered inc`df_scaled`.  You wouldn't want to cluster the data in the augmented DataFrame that you created above (```df_scaled_clustered```), because that contains additional information about the KMeans cluster labels that you don't want to include here.\n",
    "\n",
    "The code constructs and displays a figure that looks a bit like the heatmap that we created earlier in this exercise, but with some differences.  As was discussed above, if the figure is in a sub-window that you'd like to expand, you can click on the panel to the left of the figure to do so.\n",
    "\n",
    "After you have examined the figure, proceed to the material below the figure to read further about what is plotted."
   ]
  },
  {
   "cell_type": "code",
   "execution_count": null,
   "metadata": {
    "nbgrader": {
     "grade": true,
     "grade_id": "cell-b37e15e123f3b721",
     "locked": false,
     "points": 0,
     "schema_version": 3,
     "solution": true,
     "task": false
    }
   },
   "outputs": [],
   "source": [
    "numerical_features = ['Happiness', 'LogGDP', 'Support', 'Life', 'Freedom', 'Generosity', 'Corruption', 'Positive', 'Negative']\n",
    "\n",
    "sns.clustermap(df_scaled[numerical_features], method='average', metric='euclidean', figsize=(15,40))"
   ]
  },
  {
   "cell_type": "markdown",
   "metadata": {
    "nbgrader": {
     "grade": false,
     "grade_id": "cell-fc7c1efcb9f47f72",
     "locked": true,
     "schema_version": 3,
     "solution": false,
     "task": false
    }
   },
   "source": [
    "There are several things you should notice about the plot produced by the clustermap.  First, whereas our original heatmap ordered the countries alphabetically, with a more or less random pattern of indicator values as a result, this clustermap has reordered the rows to reflect the clustering.\n",
    "\n",
    "You should also notice a tree-like structure running along the left-hand side of the heatmap.  This tree, also known as a dendogram, is what is providing information about the clustering.  It is a tree, because it starts from a broad trunk at the far left of the dendogram down to finer and finer sub-branches and finally down to individual \"leaves\" that represent individual countries.  The clustering algorithm works from the bottom up: It finds several pairs of countries that are highly similar within each pair (smallest euclidean distance between them, in this version of the analysis), and then finds other countries that are similar to each pair.  Thus the algorithm grows clusters by agglomerating onto groupings that have already been identified.  The similarity between two countries in the tree is reflected by how far you need to go \"up\" the tree from one country and then back \"down\" to the other one.  If you go far enough up the tree, all countries are similar enough to each other to be grouped in one big cluster, similar to how all people are related to one another if we go back far enough in time.  Two countries that are near each other vertically in the reordered heatmap tend to be more similar to each other, but that is not strictly the case.  You should notice that at particular parts of the dendogram different branches end up getting placed nearby each other in this 2D representation, but their distance from each other up and back down the tree could be very far.\n",
    "\n",
    "There are some other things to notice in this plot.  \n",
    "\n",
    "First, despite the fact that nearby ordering in the heatmap does not always reflect close similarity in the tree, you should be able to discern some clustering visually in the reordered heatmap, that is, groups of countries with similar WHR feature values.  If you see a group of countries with similar feature values (similar patterns of colors in the heatmap), you should be able to identify the sub-tree on the left that group is associated with.\n",
    "\n",
    "Second, you should notice that the columns of the dataset have also been clustered, with their own dendogram running along the top.  This is indicative of the fact that some groups of features are more closely associated among themselves, such as `LogGDP` and `Life` (life expectancy) which are clustered more closely together.  Clustering along both axes of a dataset is known as \"biclustering\", and is turned on by default in ```clustermap()```.  If you want to cluster only along one axis, you could modify either the `row_cluster` or `col_cluster` options to the function.\n",
    "\n",
    "Finally, we have chosen just one set of criteria to carry out this clustering (```method='average'``` and ```metric='euclidean'```).  In order to identify groups of similar items in a dataset, we need to specify mathematically what we mean by \"similar.\"  In this case, we have defined the similarity of two examples based on their euclidean distance from each other (such that two identical items would be separated by zero distance).  But we could have chosen some other criterion instead, such as the correlation between two examples.  In addition, in hierarchical clustering, one needs to specify not only how similar two *data points* are, but also to specify how similar two *clusters* are (since it is building up clusters of clusters).  This is what the `method` parameter is about (or more specifically, what is called the \"linkage method\").  The similarity between two clusters might be based on how similar their two closest items are, or their two most distant items, or the average distance between all pairs of points in each cluster.\n",
    "\n",
    "If you're interested, you can consult the documentation for `clustermap()` and experiment with some different options to explore the effect of different clustering metrics and methods.  There is no one right answer, but generally you'd like to find clustering results that exhibit some degree of robustness to variations in these sorts of options."
   ]
  }
 ],
 "metadata": {
  "kernelspec": {
   "display_name": "Python 3 (ipykernel)",
   "language": "python",
   "name": "python3"
  },
  "language_info": {
   "codemirror_mode": {
    "name": "ipython",
    "version": 3
   },
   "file_extension": ".py",
   "mimetype": "text/x-python",
   "name": "python",
   "nbconvert_exporter": "python",
   "pygments_lexer": "ipython3",
   "version": "3.9.19"
  },
  "toc": {
   "base_numbering": 1,
   "nav_menu": {},
   "number_sections": false,
   "sideBar": true,
   "skip_h1_title": false,
   "title_cell": "Table of Contents",
   "title_sidebar": "Contents",
   "toc_cell": false,
   "toc_position": {},
   "toc_section_display": true,
   "toc_window_display": false
  },
  "varInspector": {
   "cols": {
    "lenName": 16,
    "lenType": 16,
    "lenVar": 40
   },
   "kernels_config": {
    "python": {
     "delete_cmd_postfix": "",
     "delete_cmd_prefix": "del ",
     "library": "var_list.py",
     "varRefreshCmd": "print(var_dic_list())"
    },
    "r": {
     "delete_cmd_postfix": ") ",
     "delete_cmd_prefix": "rm(",
     "library": "var_list.r",
     "varRefreshCmd": "cat(var_dic_list()) "
    }
   },
   "types_to_exclude": [
    "module",
    "function",
    "builtin_function_or_method",
    "instance",
    "_Feature"
   ],
   "window_display": false
  }
 },
 "nbformat": 4,
 "nbformat_minor": 4
}
